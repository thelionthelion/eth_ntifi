{
 "nbformat": 4,
 "nbformat_minor": 0,
 "metadata": {
  "colab": {
   "name": "loans-raw.ipynb",
   "provenance": [],
   "collapsed_sections": [],
   "toc_visible": true
  },
  "kernelspec": {
   "name": "python3",
   "display_name": "Python 3"
  }
 },
 "cells": [
  {
   "cell_type": "markdown",
   "metadata": {
    "id": "a7Bf9ZaIwstM"
   },
   "source": [
    "# A toy default risk model"
   ]
  },
  {
   "cell_type": "code",
   "execution_count": 2,
   "outputs": [],
   "source": [
    "#your name: Leo Widmer\n",
    "#your student number: 02-728-020"
   ],
   "metadata": {
    "collapsed": false
   }
  },
  {
   "cell_type": "markdown",
   "metadata": {
    "id": "7vUS0v6riag7"
   },
   "source": [
    "## Dataset"
   ]
  },
  {
   "cell_type": "code",
   "execution_count": 3,
   "outputs": [
    {
     "data": {
      "text/plain": "'\\n    class_names=[0,1] # name  of classes\\n    fig, ax = plt.subplots()\\n    tick_marks = np.arange(len(class_names))\\n    plt.xticks(tick_marks, class_names)\\n    plt.yticks(tick_marks, class_names)\\n    # create heatmap\\n    sns.heatmap(pd.DataFrame(confusion_matrix(y_true, y_pred)), annot=True, cmap=\"YlGnBu\" ,fmt=\\'g\\')\\n    ax.xaxis.set_label_position(\"top\")\\n    plt.tight_layout()\\n    plt.title(\\'Confusion matrix\\', y=1.1)\\n    plt.ylabel(\\'Actual label\\')\\n    plt.xlabel(\\'Predicted label\\')\\n'"
     },
     "execution_count": 3,
     "metadata": {},
     "output_type": "execute_result"
    }
   ],
   "source": [
    "from sklearn.metrics import confusion_matrix\n",
    "from sklearn.metrics import matthews_corrcoef\n",
    "from sklearn.metrics import roc_auc_score\n",
    "import numpy as np\n",
    "import matplotlib.pyplot as plt\n",
    "import seaborn as sns\n",
    "import pandas as pd\n",
    "\n",
    "def evaluate(y_true, y_pred):\n",
    "    # Area Under the curve.\n",
    "    display(\"Area Under the curve\", roc_auc_score(y_true, y_pred))\n",
    "    display(\"confusion_matrix\", confusion_matrix(y_true, y_pred))\n",
    "\n",
    "\"\"\"\n",
    "    class_names=[0,1] # name  of classes\n",
    "    fig, ax = plt.subplots()\n",
    "    tick_marks = np.arange(len(class_names))\n",
    "    plt.xticks(tick_marks, class_names)\n",
    "    plt.yticks(tick_marks, class_names)\n",
    "    # create heatmap\n",
    "    sns.heatmap(pd.DataFrame(confusion_matrix(y_true, y_pred)), annot=True, cmap=\"YlGnBu\" ,fmt='g')\n",
    "    ax.xaxis.set_label_position(\"top\")\n",
    "    plt.tight_layout()\n",
    "    plt.title('Confusion matrix', y=1.1)\n",
    "    plt.ylabel('Actual label')\n",
    "    plt.xlabel('Predicted label')\n",
    "\"\"\""
   ],
   "metadata": {
    "collapsed": false
   }
  },
  {
   "cell_type": "code",
   "metadata": {
    "id": "myAkFsvViXUx",
    "colab": {
     "base_uri": "https://localhost:8080/"
    },
    "outputId": "e5328c07-53e0-49f7-e467-da7282f684eb"
   },
   "source": [
    "import numpy as np\n",
    "\n",
    "J = 80000\n",
    "K = 20000\n",
    "num_samples = J + K\n",
    "\n",
    "# draw random numbers for every feature\n",
    "rng = np.random.default_rng(seed=1988)\n",
    "ages = rng.uniform(low=18., high=80., size=(num_samples, 1))               #age\n",
    "incomes = rng.uniform(low=1., high=15., size=(num_samples, 1))                #income (thousands)\n",
    "salaried = np.float32(rng.uniform(low=0., high=1., size=(num_samples, 1)) < .8)#self-employed or employed\n",
    "\n",
    "X = np.concatenate([ages, incomes, salaried], axis=1)\n",
    "print(X)"
   ],
   "execution_count": 4,
   "outputs": [
    {
     "name": "stdout",
     "output_type": "stream",
     "text": [
      "[[60.59241053 10.08316413  1.        ]\n",
      " [43.95739749  3.35935638  1.        ]\n",
      " [68.92716783  3.86839551  1.        ]\n",
      " ...\n",
      " [79.68831026  2.03178374  1.        ]\n",
      " [72.10994194  3.34547746  1.        ]\n",
      " [34.82558142 12.66588677  0.        ]]\n"
     ]
    }
   ]
  },
  {
   "cell_type": "code",
   "execution_count": 5,
   "outputs": [
    {
     "name": "stdout",
     "output_type": "stream",
     "text": [
      "48.98579649975508\n",
      "7.981577067535557\n",
      "0.802825\n"
     ]
    }
   ],
   "source": [
    "agesMean = np.mean(ages[0:J])\n",
    "incomesMean = np.mean(incomes[0:J])\n",
    "salariedMean = np.mean(salaried[0:J])\n",
    "print(agesMean)\n",
    "print(incomesMean)\n",
    "print(salariedMean)"
   ],
   "metadata": {
    "collapsed": false
   }
  },
  {
   "cell_type": "markdown",
   "source": [
    "Two additional features which might be relevant for credit risk assessment in reality:\n",
    "- Number of defaulted loans in the past: If a default happened before, it might be more likely to happen again\n",
    "- Collateral available. If there is additional securities this might not decrease the risk itself of default, but it is relevant for the overall risk assessment as the bank might be able to recover some assets in case of default."
   ],
   "metadata": {
    "collapsed": false
   }
  },
  {
   "cell_type": "code",
   "execution_count": 6,
   "outputs": [
    {
     "data": {
      "text/plain": "<matplotlib.patches.StepPatch at 0x7fab6813fd00>"
     },
     "execution_count": 6,
     "metadata": {},
     "output_type": "execute_result"
    },
    {
     "data": {
      "text/plain": "<Figure size 640x480 with 1 Axes>",
      "image/png": "[encoded data removed]"
     },
     "metadata": {},
     "output_type": "display_data"
    }
   ],
   "source": [
    "xi = rng.uniform(low=0, high=1, size=(num_samples,1))\n",
    "# Historgram of Xi\n",
    "import matplotlib.pyplot as plt\n",
    "counts, bins = np.histogram(xi, 100)\n",
    "plt.stairs(counts, bins, fill=True)"
   ],
   "metadata": {
    "collapsed": false
   }
  },
  {
   "cell_type": "code",
   "execution_count": 7,
   "outputs": [],
   "source": [
    "def sigmoid(z):\n",
    "    return 1 / (1+np.exp(-z))"
   ],
   "metadata": {
    "collapsed": false
   }
  },
  {
   "cell_type": "code",
   "execution_count": 8,
   "outputs": [],
   "source": [
    "def p(x,a0,a1,a2,a3):\n",
    "    return sigmoid(a0 + a1 * abs(x[:,[0]] - 50) + a2 * pow(x[:,[1]],1.25) + a3 * x[:,[2]])"
   ],
   "metadata": {
    "collapsed": false
   }
  },
  {
   "cell_type": "code",
   "execution_count": 9,
   "outputs": [
    {
     "name": "stderr",
     "output_type": "stream",
     "text": [
      "/var/folders/vr/3sfxww610gv8_lr9hlbfzryr0000gr/T/ipykernel_22510/2231803179.py:9: RuntimeWarning: Converting input from bool to <class 'numpy.uint8'> for compatibility.\n",
      "  counts, bins = np.histogram(groundTruth, 2)\n"
     ]
    },
    {
     "name": "stdout",
     "output_type": "stream",
     "text": [
      "factor of defaults: [0.05106]\n"
     ]
    },
    {
     "data": {
      "text/plain": "<Figure size 640x480 with 1 Axes>",
      "image/png": "[encoded data removed]"
     },
     "metadata": {},
     "output_type": "display_data"
    }
   ],
   "source": [
    "# a non-linear data set of credit defaults\n",
    "a_0 = 0.3\n",
    "a_1 = -5\n",
    "a_2 = 0.8\n",
    "a_3 = -5\n",
    "\n",
    "p_1 = p(X,a_0,a_1,a_2,a_3)\n",
    "groundTruth = xi < p_1\n",
    "counts, bins = np.histogram(groundTruth, 2)\n",
    "plt.stairs(counts, bins, fill=True)\n",
    "# check if we have around 5% defaults on the whole dataset in for each model\n",
    "print('factor of defaults: ' + str(sum(groundTruth)/num_samples))"
   ],
   "metadata": {
    "collapsed": false
   }
  },
  {
   "cell_type": "code",
   "execution_count": 10,
   "outputs": [],
   "source": [
    "# divide dataset into train- and test\n",
    "X_train_1 = X[:J, :]\n",
    "X_test_1 = X[J:, :]\n",
    "y_train_1 = groundTruth[:J]\n",
    "y_test_1 = groundTruth[J:]\n",
    "#print(\"X_train_1.shape: \" + str(X_train_1.shape))"
   ],
   "metadata": {
    "collapsed": false
   }
  },
  {
   "cell_type": "markdown",
   "metadata": {
    "id": "ZZpEp3e-pklL"
   },
   "source": [
    "## Logistic regression"
   ]
  },
  {
   "cell_type": "code",
   "metadata": {
    "colab": {
     "base_uri": "https://localhost:8080/"
    },
    "id": "XmeXoFqdppk1",
    "outputId": "7f46a3ea-c879-4acd-f576-97b3515c4391"
   },
   "source": [
    "from sklearn.linear_model import LogisticRegression\n",
    "\n",
    "#logistic regression for the dataset\n",
    "model_LR_1 = LogisticRegression().fit(X_train_1, y_train_1)\n",
    "\n",
    "#a look at the coefficients\n",
    "print(model_LR_1.coef_)\n",
    "print(model_LR_1.intercept_)"
   ],
   "execution_count": 11,
   "outputs": [
    {
     "name": "stdout",
     "output_type": "stream",
     "text": [
      "[[ 0.00341441  0.2351839  -0.50938069]]\n",
      "[-4.94806477]\n"
     ]
    },
    {
     "name": "stderr",
     "output_type": "stream",
     "text": [
      "/Users/lw/.conda/envs/Colab Notebooks/lib/python3.9/site-packages/sklearn/utils/validation.py:1143: DataConversionWarning: A column-vector y was passed when a 1d array was expected. Please change the shape of y to (n_samples, ), for example using ravel().\n",
      "  y = column_or_1d(y, warn=True)\n"
     ]
    }
   ]
  },
  {
   "cell_type": "markdown",
   "metadata": {
    "id": "01Ee_UjjuXBB"
   },
   "source": [
    "### ROC curves for the logistic regression"
   ]
  },
  {
   "cell_type": "code",
   "metadata": {
    "colab": {
     "base_uri": "https://localhost:8080/",
     "height": 348
    },
    "id": "Ck_OvUqoqFFz",
    "outputId": "cfba2e15-1aa1-4556-f3f8-5dbd4e1d95a4"
   },
   "source": [
    "from sklearn import metrics\n",
    "import matplotlib.pyplot as plt\n",
    "from sklearn.metrics import roc_auc_score, log_loss\n",
    "\n",
    "#calculate the scores on the linear testset\n",
    "scores_LR_1_train = model_LR_1.predict_proba(X_train_1)\n",
    "scores_LR_1 = model_LR_1.predict_proba(X_test_1)\n",
    "#calculate fpr and tpr\n",
    "fpr_LR_1, tpr_LR_1, thresholds_LR_1 = metrics.roc_curve(y_test_1, scores_LR_1[:, 1], pos_label=1)\n",
    "#calculate auc\n",
    "auc_LR_1 = roc_auc_score(y_test_1, scores_LR_1[:, 1])\n",
    "#calculate total deviance for training and test data. \n",
    "#Note that scores_LR_1_train[:, 1] is the predicted default probability\n",
    "print('total deviance for training data = ' + str(log_loss(y_train_1, scores_LR_1_train[:, 1])))\n",
    "print('total deviance for test data = ' + str(log_loss(y_test_1, scores_LR_1[:, 1])))\n",
    "\n",
    "#plot the roc curve\n",
    "plt.plot([0, 1], [0, 1], 'k--')\n",
    "plt.plot(fpr_LR_1, tpr_LR_1, label='LogisticRegression AUC={:.2f}'.format(auc_LR_1))\n",
    "plt.xlabel('False positive rate')\n",
    "plt.ylabel('True positive rate')\n",
    "plt.title('ROC curve (logistic regression)')\n",
    "plt.legend(loc='best')\n",
    "\n",
    "#print(y_test_1.shape)\n",
    "#print(xi[J:, 0].shape)\n",
    "#print(scores_LR_1[:, 1].shape)\n",
    "y_pred1 = xi[J:, 0] <= scores_LR_1[:, 1]\n",
    "evaluate(y_test_1.ravel(), y_pred1)\n"
   ],
   "execution_count": 12,
   "outputs": [
    {
     "name": "stdout",
     "output_type": "stream",
     "text": [
      "total deviance for training data = 0.18399257945167807\n",
      "total deviance for test data = 0.17804599502348598\n"
     ]
    },
    {
     "data": {
      "text/plain": "'Area Under the curve'"
     },
     "metadata": {},
     "output_type": "display_data"
    },
    {
     "data": {
      "text/plain": "0.5406146640981999"
     },
     "metadata": {},
     "output_type": "display_data"
    },
    {
     "data": {
      "text/plain": "'confusion_matrix'"
     },
     "metadata": {},
     "output_type": "display_data"
    },
    {
     "data": {
      "text/plain": "array([[18114,   897],\n       [  862,   127]])"
     },
     "metadata": {},
     "output_type": "display_data"
    },
    {
     "data": {
      "text/plain": "<Figure size 640x480 with 1 Axes>",
      "image/png": "[encoded data removed]"
     },
     "metadata": {},
     "output_type": "display_data"
    }
   ]
  },
  {
   "cell_type": "code",
   "execution_count": 40,
   "outputs": [
    {
     "name": "stdout",
     "output_type": "stream",
     "text": [
      "1726\n",
      "60\n",
      "Fraction of vectors with default probability between 3% and 4% and y=1: 0.03476245654692932\n"
     ]
    }
   ],
   "source": [
    "CountBetween3and4percent = 0\n",
    "CountBetween3and4percentANDy1 = 0\n",
    "for i in range(0, K):\n",
    "    score = scores_LR_1[i,1]\n",
    "    if 0.03 <= score <= 0.04:\n",
    "        CountBetween3and4percent += 1\n",
    "        if xi[i] <= score:\n",
    "            CountBetween3and4percentANDy1 += 1\n",
    "\n",
    "print(CountBetween3and4percent)\n",
    "print(CountBetween3and4percentANDy1)\n",
    "print('Fraction of test data vectors with default probability between 3% and 4% and y=1: ' + str(CountBetween3and4percentANDy1/CountBetween3and4percent))\n"
   ],
   "metadata": {
    "collapsed": false
   }
  },
  {
   "cell_type": "markdown",
   "metadata": {
    "id": "HJHYW_Wn1jcY"
   },
   "source": [
    "## Neural networks"
   ]
  },
  {
   "cell_type": "code",
   "execution_count": 15,
   "outputs": [],
   "source": [
    "#the loss function\n",
    "def total_deviance(y_true, y_pred):\n",
    "    return tf.math.reduce_mean(-y_true * tf.math.log(y_pred) - (1. - y_true) * tf.math.log(1. - y_pred))"
   ],
   "metadata": {
    "collapsed": false
   }
  },
  {
   "cell_type": "code",
   "metadata": {
    "id": "nvWAg9A91mu4",
    "colab": {
     "base_uri": "https://localhost:8080/"
    },
    "outputId": "f3d0a1a7-2edc-481e-ee9c-6c1085052594"
   },
   "source": [
    "import tensorflow as tf\n",
    "from tensorflow import keras \n",
    "\n",
    "#build the nn model with 2 hidden layers\n",
    "model_NN = keras.Sequential(\n",
    "    [\n",
    "     keras.layers.BatchNormalization(),\n",
    "     keras.layers.Dense(64, activation='relu', name=\"hidden_layer_1\"),\n",
    "     keras.layers.Dense(32, activation='relu', name=\"hidden_layer_2\"),\n",
    "     keras.layers.Dense(32, activation='relu', name=\"hidden_layer_3\"),\n",
    "     keras.layers.Dense(1, activation='sigmoid', name=\"output_layer\")\n",
    "    ]\n",
    ")\n",
    "\n",
    "#pick an optimizer\n",
    "model_NN.compile(\n",
    "    optimizer=keras.optimizers.Adam(learning_rate=0.001),\n",
    "    loss=total_deviance\n",
    ")\n",
    "\n",
    "#shuffle the data during training\n",
    "train_dataset = tf.data.Dataset.from_tensor_slices((X_train_1, np.float32(y_train_1)))\n",
    "train_dataset = train_dataset.shuffle(buffer_size=1024).batch(512)\n",
    "\n",
    "#fit the model\n",
    "model_NN.fit(\n",
    "    train_dataset,\n",
    "    batch_size=512,\n",
    "    epochs=7\n",
    ")\n"
   ],
   "execution_count": 16,
   "outputs": [
    {
     "name": "stdout",
     "output_type": "stream",
     "text": [
      "Epoch 1/7\n",
      "157/157 [==============================] - 1s 3ms/step - loss: 0.2318\n",
      "Epoch 2/7\n",
      "157/157 [==============================] - 0s 3ms/step - loss: 0.0836\n",
      "Epoch 3/7\n",
      "157/157 [==============================] - 0s 3ms/step - loss: 0.0455\n",
      "Epoch 4/7\n",
      "157/157 [==============================] - 1s 3ms/step - loss: 0.0404\n",
      "Epoch 5/7\n",
      "157/157 [==============================] - 1s 3ms/step - loss: 0.0375\n",
      "Epoch 6/7\n",
      "157/157 [==============================] - 0s 3ms/step - loss: 0.0428\n",
      "Epoch 7/7\n",
      "157/157 [==============================] - 0s 3ms/step - loss: 0.0407\n"
     ]
    },
    {
     "data": {
      "text/plain": "<keras.callbacks.History at 0x7fab98de45b0>"
     },
     "execution_count": 16,
     "metadata": {},
     "output_type": "execute_result"
    }
   ]
  },
  {
   "cell_type": "markdown",
   "metadata": {
    "id": "sPCyWa2Jh8JH"
   },
   "source": [
    "### Roc curves for the neural network"
   ]
  },
  {
   "cell_type": "code",
   "metadata": {
    "colab": {
     "base_uri": "https://localhost:8080/",
     "height": 313
    },
    "id": "EgappOzX4bf8",
    "outputId": "c5cf67cc-5d31-470c-a648-bc3807016ba1"
   },
   "source": [
    "#calculate the scores on the testdata\n",
    "scores_NN_train = model_NN(X_train_1)\n",
    "scores_NN = model_NN(X_test_1)\n",
    "fpr_NN, tpr_NN, thresholds_NN = metrics.roc_curve(y_test_1, scores_NN[:, 0], pos_label=1)\n",
    "auc_NN = roc_auc_score(y_test_1, scores_NN[:, 0])\n",
    "\n",
    "#calculate total deviance for training and test data.\n",
    "#Note that scores_NN[:, 0] is the predicted default probability.\n",
    "print('total deviance for training data = ' + str(log_loss(y_train_1, scores_NN_train[:, 0])))\n",
    "print('total deviance for test data = ' + str(log_loss(y_test_1, scores_NN[:, 0])))\n",
    "\n",
    "\n",
    "plt.plot(fpr_NN, tpr_NN, label='Neural network model AUC={:.2f}'.format(auc_NN))\n",
    "plt.plot(fpr_LR_1, tpr_LR_1, label='logReg model AUC={:.2f}'.format(auc_LR_1))\n",
    "plt.plot([0, 1], [0, 1], 'k--')\n",
    "plt.xlabel('False positive rate')\n",
    "plt.ylabel('True positive rate')\n",
    "plt.title('ROC curve (NN vs. LR)')\n",
    "plt.legend(loc='best')\n",
    "\n",
    "evaluate(y_test_1, xi[J:, 0] <= scores_NN[:, 0] )"
   ],
   "execution_count": 42,
   "outputs": [
    {
     "name": "stdout",
     "output_type": "stream",
     "text": [
      "total deviance for training data = 0.02615991724967569\n",
      "total deviance for test data = 0.026396675269673268\n"
     ]
    },
    {
     "data": {
      "text/plain": "'Area Under the curve'"
     },
     "metadata": {},
     "output_type": "display_data"
    },
    {
     "data": {
      "text/plain": "0.9488945227229683"
     },
     "metadata": {},
     "output_type": "display_data"
    },
    {
     "data": {
      "text/plain": "'confusion_matrix'"
     },
     "metadata": {},
     "output_type": "display_data"
    },
    {
     "data": {
      "text/plain": "array([[18894,   117],\n       [   95,   894]])"
     },
     "metadata": {},
     "output_type": "display_data"
    },
    {
     "data": {
      "text/plain": "<Figure size 640x480 with 1 Axes>",
      "image/png": "[encoded data removed]"
     },
     "metadata": {},
     "output_type": "display_data"
    }
   ]
  },
  {
   "cell_type": "code",
   "execution_count": 41,
   "outputs": [
    {
     "name": "stdout",
     "output_type": "stream",
     "text": [
      "111\n",
      "6\n",
      "Fraction of test data vectors with default probability between 3% and 4% and y=1: 0.05405405405405406\n"
     ]
    }
   ],
   "source": [
    "\n",
    "CountBetween3and4percent = 0\n",
    "CountBetween3and4percentANDy1 = 0\n",
    "for i in range(0, K):\n",
    "    score = scores_NN[i, 0]\n",
    "    if 0.03 <= score <= 0.04:\n",
    "        CountBetween3and4percent += 1\n",
    "        if xi[i] <= score:\n",
    "            CountBetween3and4percentANDy1 += 1\n",
    "\n",
    "print(CountBetween3and4percent)\n",
    "print(CountBetween3and4percentANDy1)\n",
    "print('Fraction of test data vectors with default probability between 3% and 4% and y=1: ' + str(\n",
    "    CountBetween3and4percentANDy1 / CountBetween3and4percent))"
   ],
   "metadata": {
    "collapsed": false
   }
  },
  {
   "cell_type": "markdown",
   "metadata": {
    "id": "7ESezTJnIqp4"
   },
   "source": [
    "## P&L Analysis"
   ]
  },
  {
   "cell_type": "code",
   "metadata": {
    "id": "bb0p5HSAIuBd",
    "colab": {
     "base_uri": "https://localhost:8080/",
     "height": 619
    },
    "outputId": "ae5e2106-b04f-45ae-c3f4-17c720c972b4"
   },
   "source": [
    "from scipy.stats import norm\n",
    "import matplotlib as mpl\n",
    "\n",
    "portfolio_size = 5000\n",
    "loan_amount = 1000. \n",
    "rate = 0.055\n",
    "\n",
    "#simulate the defaults on the loan portfolio\n",
    "defaults = np.float32(np.random.uniform(low=0., high=1., size=(portfolio_size, 50000)) < p_2_test[:portfolio_size, :])\n",
    "\n",
    "\n",
    "#p&l for scenario 1\n",
    "p_and_l_a = np.sum(loan_amount * (rate * (1. - defaults) - defaults), axis=0)\n",
    "\n",
    "#histogramm for scenario 1\n",
    "plt.figure(1)\n",
    "plt.hist(p_and_l_a, bins=100)\n",
    "\n",
    "print('Mean: {:.2f}'.format(np.mean(p_and_l_a)))\n",
    "p_and_l_a = np.sort(p_and_l_a)\n",
    "print('VaR: {:.2f}'.format(-p_and_l_a[499]))\n",
    "\n",
    "#scenario 2\n",
    "\n",
    "rate = 0.01\n",
    "\n",
    "p_and_l_b_LR = np.sum(loan_amount * (rate * (1. - defaults) - defaults) * np.float32(scores_LR_2[:portfolio_size, 1:2] < 0.05), axis=0)\n",
    "p_and_l_b_NN = np.sum(loan_amount * (rate * (1. - defaults) - defaults) * np.float32(scores_NN[:portfolio_size, :] < 0.05), axis=0)\n",
    "\n",
    "\n",
    "plt.figure(2)\n",
    "plt.hist(p_and_l_b_LR, bins=100, label='LR')\n",
    "plt.hist(p_and_l_b_NN, bins=100, label='NN')\n",
    "plt.legend()\n",
    "\n",
    "\n",
    "print('Mean (LR): {:.2f}'.format(np.mean(p_and_l_b_LR)))\n",
    "p_and_l_b_LR = np.sort(p_and_l_b_LR)\n",
    "print('VaR (LR): {:.2f}'.format(-p_and_l_b_LR[499]))\n",
    "\n",
    "print('Mean (NN): {:.2f}'.format(np.mean(p_and_l_b_NN)))\n",
    "p_and_l_b_NN = np.sort(p_and_l_b_NN)\n",
    "print('VaR (NN): {:.2f}'.format(-p_and_l_b_NN[499]))\n",
    "\n"
   ],
   "execution_count": 33,
   "outputs": [
    {
     "output_type": "stream",
     "name": "stdout",
     "text": [
      "Mean: 3958.09\n",
      "VaR: 16180.00\n",
      "Mean (LR): 2688.40\n",
      "VaR (LR): 9050.00\n",
      "Mean (NN): 37481.21\n",
      "VaR (NN): -30880.00\n"
     ]
    },
    {
     "output_type": "display_data",
     "data": {
      "image/png": "[encoded data removed]",
      "text/plain": [
       "<Figure size 432x288 with 1 Axes>"
      ]
     },
     "metadata": {
      "needs_background": "light"
     }
    },
    {
     "output_type": "display_data",
     "data": {
      "image/png": "[encoded data removed]",
      "text/plain": [
       "<Figure size 432x288 with 1 Axes>"
      ]
     },
     "metadata": {
      "needs_background": "light"
     }
    }
   ]
  }
 ]
}
