{
  "nbformat": 4,
  "nbformat_minor": 0,
  "metadata": {
    "colab": {
      "provenance": [],
      "toc_visible": true,
      "authorship_tag": "ABX9TyNq4VLN4HlZLQzhsG/Cy9SB",
      "include_colab_link": true
    },
    "kernelspec": {
      "name": "python3",
      "display_name": "Python 3"
    },
    "language_info": {
      "name": "python"
    }
  },
  "cells": [
    {
      "cell_type": "markdown",
      "metadata": {
        "id": "view-in-github",
        "colab_type": "text"
      },
      "source": [
        "<a href=\"https://colab.research.google.com/github/thelionthelion/eth_ntifi/blob/main/NTIFI_Exercise1.ipynb\" target=\"_parent\"><img src=\"https://colab.research.google.com/assets/colab-badge.svg\" alt=\"Open In Colab\"/></a>"
      ]
    },
    {
      "cell_type": "markdown",
      "source": [
        "# New Technologies in Banking and Finance\n",
        "* ETH Zurich\n",
        "* Machine Learning Coding Exercises"
      ],
      "metadata": {
        "id": "3qYkLTPQlTvL"
      }
    },
    {
      "cell_type": "markdown",
      "source": [
        "## Task 1\n"
      ],
      "metadata": {
        "id": "ftxyd1FOoOnN"
      }
    },
    {
      "cell_type": "markdown",
      "source": [
        "Choose numbers J, K ≥ 5000 and simulate J + K vectors xj = (xj1, xj2, xj3) ∈ R3 with\n",
        "* xj1 = age in [18, 80]\n",
        "* xj2 = monthly income in CHF 1000 in [1, 15]\n",
        "* xj3 = salaried/self-employed in {0, 1}\n",
        "\n",
        "Compute the empirical means of xj1, xj2 and xj3 over j = 1,...,J.\n",
        "Give two additional features which you believe are relevant for credit risk assessment in reality.\n",
        "\n",
        "Explain your answer."
      ],
      "metadata": {
        "id": "fhtnynlGohgF"
      }
    },
    {
      "cell_type": "code",
      "execution_count": 2,
      "metadata": {
        "id": "q0nToQAKj-lU"
      },
      "outputs": [],
      "source": [
        "#%tensorflow_version 1.x\n",
        "import numpy as np\n",
        "import tensorflow as tf\n",
        "\n",
        "from keras.models import Sequential\n",
        "from keras.layers import Input, Dense, Conv2D, Concatenate, Dropout, Subtract, \\\n",
        "                        Flatten, MaxPooling2D, Multiply, Lambda, Add, Dot\n",
        "from keras.backend import constant\n",
        "from keras import optimizers\n",
        "\n",
        "#from keras.engine.topology import Layer\n",
        "from keras.models import Model\n",
        "from keras.layers import Input\n",
        "from keras import initializers\n",
        "from keras.constraints import max_norm\n",
        "import keras.backend as K\n",
        "import matplotlib.pyplot as plt\n",
        "import copy"
      ]
    },
    {
      "cell_type": "markdown",
      "source": [
        "1a) Choose numbers J, K ≥ 5000 and simulate J + K vectors..."
      ],
      "metadata": {
        "id": "cOobmRz9s52p"
      }
    },
    {
      "cell_type": "code",
      "source": [
        "J = 10000\n",
        "K = 5000\n",
        "\n",
        "import numpy as np\n",
        "\n",
        "rng = np.random.Generator(np.random.PCG64())\n",
        "rng = np.random.default_rng(seed=1987)\n",
        "# uniform from 0 to 1 value = rng.random()\n",
        "# generate 10 Gaussian random number value = rng.standard_normal(10)\n",
        "\n",
        "# generate 20 random integers between 0 and 10\n",
        "ages = rng.integers(low=18, high=80, size=J)\n",
        "incomes = rng.integers(low=1, high=15, size=J)\n",
        "salaried = rng.binomial(n=1, p= 0.5, size=J)\n",
        "print(ages)\n",
        "print(incomes)\n",
        "print(salaried)"
      ],
      "metadata": {
        "colab": {
          "base_uri": "https://localhost:8080/"
        },
        "id": "8pfSHTWPo48r",
        "outputId": "4a75973f-c924-45cf-b9ec-40d97ef860f7"
      },
      "execution_count": 24,
      "outputs": [
        {
          "output_type": "stream",
          "name": "stdout",
          "text": [
            "[38 34 63 ... 33 41 64]\n",
            "[ 5 11  7 ...  4 13  8]\n",
            "[0 1 0 ... 0 0 1]\n"
          ]
        }
      ]
    },
    {
      "cell_type": "markdown",
      "source": [
        "Compute the empirical means of xj1, xj2 and xj3 over j = 1,...,J."
      ],
      "metadata": {
        "id": "fnBQDdrPlSmu"
      }
    },
    {
      "cell_type": "code",
      "source": [
        "agesMean = np.mean(ages)\n",
        "incomesMean = np.mean(incomes)\n",
        "salariedMean = np.mean(salaried)\n",
        "print(agesMean)\n",
        "print(incomesMean)\n",
        "print(salariedMean)\n"
      ],
      "metadata": {
        "colab": {
          "base_uri": "https://localhost:8080/"
        },
        "id": "-Zx4j4lztzf3",
        "outputId": "34fd832b-a226-4160-d857-7ab8a2b4728c"
      },
      "execution_count": 25,
      "outputs": [
        {
          "output_type": "stream",
          "name": "stdout",
          "text": [
            "48.2658\n",
            "7.4075\n",
            "0.5066\n"
          ]
        }
      ]
    },
    {
      "cell_type": "markdown",
      "source": [
        "Give two additional features which you believe are relevant for credit risk assessment in reality. Explain your answer."
      ],
      "metadata": {
        "id": "1RM0Hyg3tSKx"
      }
    },
    {
      "cell_type": "markdown",
      "source": [
        "* Number of defaulted loans in the past: If a default happend before, it might be more likely to happen again\n",
        "* Collateral available. If there is additional securities this might not decrease the risk itself of default, but it is relevant for the overall risk assessment as the bank might be able to recover some assets in case of default."
      ],
      "metadata": {
        "id": "9h1Nj5STtSDU"
      }
    },
    {
      "cell_type": "markdown",
      "source": [
        "## Task 2"
      ],
      "metadata": {
        "id": "MP8NKPIUycDq"
      }
    },
    {
      "cell_type": "markdown",
      "source": [
        "Let ξj , j = 1, . . . , J + K be independent random variables that are uniformly distributed on (0, 1)"
      ],
      "metadata": {
        "id": "cxszJeSqyxd5"
      }
    },
    {
      "cell_type": "code",
      "source": [
        "xi = rng.uniform(low=0, high=1, size=J+K)\n",
        "\n",
        "import matplotlib.pyplot as plt\n",
        "count, bins, ignored = plt.hist(xi, 1500, density=True)\n",
        "plt.plot(bins, np.ones_like(bins), linewidth=2, color='r')\n",
        "plt.show()"
      ],
      "metadata": {
        "colab": {
          "base_uri": "https://localhost:8080/",
          "height": 430
        },
        "id": "2x1V_7DGyfhx",
        "outputId": "d0e292d1-e098-4ba7-bbc9-2b7f74a89b3d"
      },
      "execution_count": 31,
      "outputs": [
        {
          "output_type": "display_data",
          "data": {
            "text/plain": [
              "<Figure size 640x480 with 1 Axes>"
            ],
            "image/png": "[encoded data removed]"
          },
          "metadata": {}
        }
      ]
    },
    {
      "cell_type": "markdown",
      "source": [
        "σ : R → (0, 1) the logistic (or sigmoid) function given by\n",
        "σ(z)= e^z / (1+e^z) = 1+e−z."
      ],
      "metadata": {
        "id": "xGKOhi0Q0Bek"
      }
    },
    {
      "cell_type": "code",
      "source": [
        "def sigmoid(z):\n",
        "    return 1 / (1+exp(-z))"
      ],
      "metadata": {
        "id": "SJAPYjQH0alW"
      },
      "execution_count": 35,
      "outputs": []
    },
    {
      "cell_type": "markdown",
      "source": [
        "Consider a function p : R3 → (0, 1) of the form\n",
        "p(x) = σ \u0000a0 + a1|x1 − 50| + a2(x2)1.25 + a3x3\u0001"
      ],
      "metadata": {
        "id": "xu2yPKFJ0-02"
      }
    },
    {
      "cell_type": "code",
      "source": [
        "def p(x,a0,a1,a2,a3):\n",
        "    return sigmoid(a0 + a1 * abs(x[0] - 50) + a2 * pow(x[1],1.25) + a3 * x[2])"
      ],
      "metadata": {
        "id": "78ii2ZgT1DBA"
      },
      "execution_count": 36,
      "outputs": []
    }
  ]
}