{
  "nbformat": 4,
  "nbformat_minor": 0,
  "metadata": {
    "colab": {
      "provenance": [],
      "toc_visible": true,
      "authorship_tag": "ABX9TyMPZPC82cVsaAxwy635wM5g",
      "include_colab_link": true
    },
    "kernelspec": {
      "name": "python3",
      "display_name": "Python 3"
    },
    "language_info": {
      "name": "python"
    }
  },
  "cells": [
    {
      "cell_type": "markdown",
      "metadata": {
        "id": "view-in-github",
        "colab_type": "text"
      },
      "source": [
        "<a href=\"https://colab.research.google.com/github/thelionthelion/eth_ntifi/blob/main/NTIFI_Exercise1.ipynb\" target=\"_parent\"><img src=\"https://colab.research.google.com/assets/colab-badge.svg\" alt=\"Open In Colab\"/></a>"
      ]
    },
    {
      "cell_type": "markdown",
      "source": [
        "# New Technologies in Banking and Finance\n",
        "* ETH Zurich\n",
        "* Machine Learning Coding Exercises"
      ],
      "metadata": {
        "id": "3qYkLTPQlTvL"
      }
    },
    {
      "cell_type": "markdown",
      "source": [
        "## Task 1\n"
      ],
      "metadata": {
        "id": "ftxyd1FOoOnN"
      }
    },
    {
      "cell_type": "markdown",
      "source": [
        "Choose numbers J, K ≥ 5000 and simulate J + K vectors xj = (xj1, xj2, xj3) ∈ R3 with\n",
        "* xj1 = age in [18, 80]\n",
        "* xj2 = monthly income in CHF 1000 in [1, 15]\n",
        "* xj3 = salaried/self-employed in {0, 1}\n",
        "\n",
        "Compute the empirical means of xj1, xj2 and xj3 over j = 1,...,J.\n",
        "Give two additional features which you believe are relevant for credit risk assessment in reality.\n",
        "\n",
        "Explain your answer."
      ],
      "metadata": {
        "id": "fhtnynlGohgF"
      }
    },
    {
      "cell_type": "code",
      "execution_count": 2,
      "metadata": {
        "id": "q0nToQAKj-lU"
      },
      "outputs": [],
      "source": [
        "#%tensorflow_version 1.x\n",
        "import numpy as np\n",
        "import tensorflow as tf\n",
        "\n",
        "from keras.models import Sequential\n",
        "from keras.layers import Input, Dense, Conv2D, Concatenate, Dropout, Subtract, \\\n",
        "                        Flatten, MaxPooling2D, Multiply, Lambda, Add, Dot\n",
        "from keras.backend import constant\n",
        "from keras import optimizers\n",
        "\n",
        "#from keras.engine.topology import Layer\n",
        "from keras.models import Model\n",
        "from keras.layers import Input\n",
        "from keras import initializers\n",
        "from keras.constraints import max_norm\n",
        "import keras.backend as K\n",
        "\n",
        "import matplotlib.pyplot as plt\n",
        "\n",
        "import copy\n",
        "\n"
      ]
    },
    {
      "cell_type": "code",
      "source": [
        "J = 10000\n",
        "K = 5000\n",
        "\n",
        "\n"
      ],
      "metadata": {
        "id": "8pfSHTWPo48r"
      },
      "execution_count": 3,
      "outputs": []
    },
    {
      "cell_type": "markdown",
      "source": [],
      "metadata": {
        "id": "fnBQDdrPlSmu"
      }
    }
  ]
}