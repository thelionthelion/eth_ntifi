{
  "nbformat": 4,
  "nbformat_minor": 0,
  "metadata": {
    "colab": {
      "provenance": [],
      "toc_visible": true,
      "authorship_tag": "ABX9TyOOerAg0YBH76cjDJdvHOR3",
      "include_colab_link": true
    },
    "kernelspec": {
      "name": "python3",
      "display_name": "Python 3"
    },
    "language_info": {
      "name": "python"
    }
  },
  "cells": [
    {
      "cell_type": "markdown",
      "metadata": {
        "id": "view-in-github",
        "colab_type": "text"
      },
      "source": [
        "<a href=\"https://colab.research.google.com/github/thelionthelion/eth_ntifi/blob/main/NTIFI_Exercise1.ipynb\" target=\"_parent\"><img src=\"https://colab.research.google.com/assets/colab-badge.svg\" alt=\"Open In Colab\"/></a>"
      ]
    },
    {
      "cell_type": "markdown",
      "source": [
        "# New Technologies in Banking and Finance\n",
        "* ETH Zurich\n",
        "* Machine Learning Coding Exercises"
      ],
      "metadata": {
        "id": "3qYkLTPQlTvL"
      }
    },
    {
      "cell_type": "markdown",
      "source": [
        "## Task 1\n"
      ],
      "metadata": {
        "id": "ftxyd1FOoOnN"
      }
    },
    {
      "cell_type": "markdown",
      "source": [
        "Choose numbers J, K ≥ 5000 and simulate J + K vectors xj = (xj1, xj2, xj3) ∈ R3 with\n",
        "* xj1 = age in [18, 80]\n",
        "* xj2 = monthly income in CHF 1000 in [1, 15]\n",
        "* xj3 = salaried/self-employed in {0, 1}\n",
        "\n",
        "Compute the empirical means of xj1, xj2 and xj3 over j = 1,...,J.\n",
        "Give two additional features which you believe are relevant for credit risk assessment in reality.\n",
        "\n",
        "Explain your answer."
      ],
      "metadata": {
        "id": "fhtnynlGohgF"
      }
    },
    {
      "cell_type": "code",
      "execution_count": 2,
      "metadata": {
        "id": "q0nToQAKj-lU"
      },
      "outputs": [],
      "source": [
        "#%tensorflow_version 1.x\n",
        "import numpy as np\n",
        "import tensorflow as tf\n",
        "\n",
        "from keras.models import Sequential\n",
        "from keras.layers import Input, Dense, Conv2D, Concatenate, Dropout, Subtract, \\\n",
        "                        Flatten, MaxPooling2D, Multiply, Lambda, Add, Dot\n",
        "from keras.backend import constant\n",
        "from keras import optimizers\n",
        "\n",
        "#from keras.engine.topology import Layer\n",
        "from keras.models import Model\n",
        "from keras.layers import Input\n",
        "from keras import initializers\n",
        "from keras.constraints import max_norm\n",
        "import keras.backend as K\n",
        "import matplotlib.pyplot as plt\n",
        "import copy"
      ]
    },
    {
      "cell_type": "markdown",
      "source": [
        "1a) Choose numbers J, K ≥ 5000 and simulate J + K vectors..."
      ],
      "metadata": {
        "id": "cOobmRz9s52p"
      }
    },
    {
      "cell_type": "code",
      "source": [
        "J = 10000\n",
        "K = 5000\n",
        "\n",
        "import numpy as np\n",
        "\n",
        "rng = np.random.Generator(np.random.PCG64())\n",
        "rng = np.random.default_rng(seed=1987)\n",
        "# uniform from 0 to 1 value = rng.random()\n",
        "# generate 10 Gaussian random number value = rng.standard_normal(10)\n",
        "\n",
        "# generate 20 random integers between 0 and 10\n",
        "ages = rng.integers(low=18, high=80, size=J)\n",
        "incomes = rng.integers(low=1, high=15, size=J)\n",
        "salaried = rng.binomial(n=1, p= 0.5, size=J)\n",
        "print(ages)\n",
        "print(incomes)\n",
        "print(salaried)"
      ],
      "metadata": {
        "colab": {
          "base_uri": "https://localhost:8080/"
        },
        "id": "8pfSHTWPo48r",
        "outputId": "4a75973f-c924-45cf-b9ec-40d97ef860f7"
      },
      "execution_count": 24,
      "outputs": [
        {
          "output_type": "stream",
          "name": "stdout",
          "text": [
            "[38 34 63 ... 33 41 64]\n",
            "[ 5 11  7 ...  4 13  8]\n",
            "[0 1 0 ... 0 0 1]\n"
          ]
        }
      ]
    },
    {
      "cell_type": "markdown",
      "source": [
        "Compute the empirical means of xj1, xj2 and xj3 over j = 1,...,J."
      ],
      "metadata": {
        "id": "fnBQDdrPlSmu"
      }
    },
    {
      "cell_type": "code",
      "source": [
        "agesMean = np.mean(ages)\n",
        "incomesMean = np.mean(incomes)\n",
        "salariedMean = np.mean(salaried)\n",
        "print(agesMean)\n",
        "print(incomesMean)\n",
        "print(salariedMean)\n"
      ],
      "metadata": {
        "colab": {
          "base_uri": "https://localhost:8080/"
        },
        "id": "-Zx4j4lztzf3",
        "outputId": "34fd832b-a226-4160-d857-7ab8a2b4728c"
      },
      "execution_count": 25,
      "outputs": [
        {
          "output_type": "stream",
          "name": "stdout",
          "text": [
            "48.2658\n",
            "7.4075\n",
            "0.5066\n"
          ]
        }
      ]
    },
    {
      "cell_type": "markdown",
      "source": [
        "Give two additional features which you believe are relevant for credit risk assessment in reality. Explain your answer."
      ],
      "metadata": {
        "id": "1RM0Hyg3tSKx"
      }
    },
    {
      "cell_type": "markdown",
      "source": [],
      "metadata": {
        "id": "9h1Nj5STtSDU"
      }
    }
  ]
}