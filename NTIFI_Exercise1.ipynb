{
  "nbformat": 4,
  "nbformat_minor": 0,
  "metadata": {
    "colab": {
      "provenance": [],
      "toc_visible": true,
      "authorship_tag": "ABX9TyOWppdjziqSOkIiNtcHOiCT",
      "include_colab_link": true
    },
    "kernelspec": {
      "name": "python3",
      "display_name": "Python 3"
    },
    "language_info": {
      "name": "python"
    }
  },
  "cells": [
    {
      "cell_type": "markdown",
      "metadata": {
        "id": "view-in-github",
        "colab_type": "text"
      },
      "source": [
        "<a href=\"https://colab.research.google.com/github/thelionthelion/eth_ntifi/blob/main/NTIFI_Exercise1.ipynb\" target=\"_parent\"><img src=\"https://colab.research.google.com/assets/colab-badge.svg\" alt=\"Open In Colab\"/></a>"
      ]
    },
    {
      "cell_type": "markdown",
      "source": [
        "# New Technologies in Banking and Finance\n",
        "* ETH Zurich\n",
        "* Machine Learning Coding Exercises"
      ],
      "metadata": {
        "id": "3qYkLTPQlTvL"
      }
    },
    {
      "cell_type": "markdown",
      "source": [
        "## Task 1\n"
      ],
      "metadata": {
        "id": "ftxyd1FOoOnN"
      }
    },
    {
      "cell_type": "markdown",
      "source": [
        "Choose numbers J, K ≥ 5000 and simulate J + K vectors xj = (xj1, xj2, xj3) ∈ R3 with\n",
        "* xj1 = age in [18, 80]\n",
        "* xj2 = monthly income in CHF 1000 in [1, 15]\n",
        "* xj3 = salaried/self-employed in {0, 1}\n",
        "\n",
        "Compute the empirical means of xj1, xj2 and xj3 over j = 1,...,J.\n",
        "Give two additional features which you believe are relevant for credit risk assessment in reality.\n",
        "\n",
        "Explain your answer."
      ],
      "metadata": {
        "id": "fhtnynlGohgF"
      }
    },
    {
      "cell_type": "code",
      "execution_count": 2,
      "metadata": {
        "id": "q0nToQAKj-lU"
      },
      "outputs": [],
      "source": [
        "#%tensorflow_version 1.x\n",
        "import numpy as np\n",
        "import tensorflow as tf\n",
        "\n",
        "from keras.models import Sequential\n",
        "from keras.layers import Input, Dense, Conv2D, Concatenate, Dropout, Subtract, \\\n",
        "                        Flatten, MaxPooling2D, Multiply, Lambda, Add, Dot\n",
        "from keras.backend import constant\n",
        "from keras import optimizers\n",
        "\n",
        "#from keras.engine.topology import Layer\n",
        "from keras.models import Model\n",
        "from keras.layers import Input\n",
        "from keras import initializers\n",
        "from keras.constraints import max_norm\n",
        "import keras.backend as K\n",
        "import matplotlib.pyplot as plt\n",
        "import copy"
      ]
    },
    {
      "cell_type": "markdown",
      "source": [
        "1a) Choose numbers J, K ≥ 5000 and simulate J + K vectors xj = (xj1, xj2, xj3) ∈ R3 with\n",
        "* xj1 = age in [18, 80]\n",
        "* xj2 = monthly income in CHF 1000 in [1, 15]\n",
        "* xj3 = salaried/self-employed in {0, 1}"
      ],
      "metadata": {
        "id": "cOobmRz9s52p"
      }
    },
    {
      "cell_type": "code",
      "source": [
        "J = 10000\n",
        "K = 5000\n",
        "JK = J + K\n",
        "\n",
        "import numpy as np\n",
        "\n",
        "rng = np.random.Generator(np.random.PCG64())\n",
        "rng = np.random.default_rng(seed=1987)\n",
        "# uniform from 0 to 1 value = rng.random()\n",
        "# generate 10 Gaussian random number value = rng.standard_normal(10)\n",
        "\n",
        "# generate 20 random integers between 0 and 10\n",
        "ages = rng.integers(low=18, high=80, size=JK)\n",
        "incomes = rng.integers(low=1, high=15, size=JK)\n",
        "salaried = rng.binomial(n=1, p= 0.5, size=JK)\n",
        "print(ages)\n",
        "print(incomes)\n",
        "print(salaried)"
      ],
      "metadata": {
        "colab": {
          "base_uri": "https://localhost:8080/"
        },
        "id": "8pfSHTWPo48r",
        "outputId": "e86f9f78-5e99-41b3-aaaa-c66af1fce76a"
      },
      "execution_count": 37,
      "outputs": [
        {
          "output_type": "stream",
          "name": "stdout",
          "text": [
            "[38 34 63 ... 20 48 54]\n",
            "[ 6 13 14 ...  8  9  9]\n",
            "[0 0 1 ... 1 1 0]\n"
          ]
        }
      ]
    },
    {
      "cell_type": "markdown",
      "source": [
        "Compute the empirical means of xj1, xj2 and xj3 over j = 1,...,J."
      ],
      "metadata": {
        "id": "fnBQDdrPlSmu"
      }
    },
    {
      "cell_type": "code",
      "source": [
        "agesMean = np.mean(ages[0:J-1])\n",
        "incomesMean = np.mean(incomes[0:J-1])\n",
        "salariedMean = np.mean(salaried[0:J-1])\n",
        "print(agesMean)\n",
        "print(incomesMean)\n",
        "print(salariedMean)\n"
      ],
      "metadata": {
        "colab": {
          "base_uri": "https://localhost:8080/"
        },
        "id": "-Zx4j4lztzf3",
        "outputId": "3dd0258a-6c61-4d27-8e70-71bd24ef08c0"
      },
      "execution_count": 43,
      "outputs": [
        {
          "output_type": "stream",
          "name": "stdout",
          "text": [
            "48.26422642264227\n",
            "7.463146314631463\n",
            "0.5070507050705071\n"
          ]
        }
      ]
    },
    {
      "cell_type": "markdown",
      "source": [
        "Give two additional features which you believe are relevant for credit risk assessment in reality. Explain your answer."
      ],
      "metadata": {
        "id": "1RM0Hyg3tSKx"
      }
    },
    {
      "cell_type": "markdown",
      "source": [
        "* Number of defaulted loans in the past: If a default happend before, it might be more likely to happen again\n",
        "* Collateral available. If there is additional securities this might not decrease the risk itself of default, but it is relevant for the overall risk assessment as the bank might be able to recover some assets in case of default."
      ],
      "metadata": {
        "id": "9h1Nj5STtSDU"
      }
    },
    {
      "cell_type": "markdown",
      "source": [
        "## Task 2"
      ],
      "metadata": {
        "id": "MP8NKPIUycDq"
      }
    },
    {
      "cell_type": "markdown",
      "source": [
        "Let ξj , j = 1, . . . , J + K be independent random variables that are uniformly distributed on (0, 1)"
      ],
      "metadata": {
        "id": "cxszJeSqyxd5"
      }
    },
    {
      "cell_type": "code",
      "source": [
        "xi = rng.uniform(low=0, high=1, size=JK)\n",
        "print(xi)\n",
        "\n",
        "import matplotlib.pyplot as plt\n",
        "count, bins, ignored = plt.hist(xi, 1500, density=True)\n",
        "plt.plot(bins, np.ones_like(bins), linewidth=2, color='r')\n",
        "plt.show()"
      ],
      "metadata": {
        "colab": {
          "base_uri": "https://localhost:8080/",
          "height": 447
        },
        "id": "2x1V_7DGyfhx",
        "outputId": "31a78a25-7830-4c88-9e0d-f8fd97c2d579"
      },
      "execution_count": 46,
      "outputs": [
        {
          "output_type": "stream",
          "name": "stdout",
          "text": [
            "[0.34989873 0.61632888 0.97633625 ... 0.78875966 0.06554049 0.2059283 ]\n"
          ]
        },
        {
          "output_type": "display_data",
          "data": {
            "text/plain": [
              "<Figure size 640x480 with 1 Axes>"
            ],
            "image/png": "[encoded data removed]"
          },
          "metadata": {}
        }
      ]
    },
    {
      "cell_type": "markdown",
      "source": [
        "σ : R → (0, 1) the logistic (or sigmoid) function given by\n",
        "σ(z)= e^z / (1+e^z) = 1+e−z."
      ],
      "metadata": {
        "id": "xGKOhi0Q0Bek"
      }
    },
    {
      "cell_type": "code",
      "source": [
        "def sigmoid(z):\n",
        "    return 1 / (1+exp(-z))"
      ],
      "metadata": {
        "id": "SJAPYjQH0alW"
      },
      "execution_count": 47,
      "outputs": []
    },
    {
      "cell_type": "markdown",
      "source": [
        "Consider a function p : R3 → (0, 1) of the form\n",
        "p(x) = σ \u0000a0 + a1|x1 − 50| + a2(x2)1.25 + a3x3\u0001"
      ],
      "metadata": {
        "id": "xu2yPKFJ0-02"
      }
    },
    {
      "cell_type": "code",
      "source": [
        "def p(x,a0,a1,a2,a3):\n",
        "    return sigmoid(a0 + a1 * abs(x[0] - 50) + a2 * pow(x[1],1.25) + a3 * x[2])"
      ],
      "metadata": {
        "id": "78ii2ZgT1DBA"
      },
      "execution_count": 48,
      "outputs": []
    }
  ]
}