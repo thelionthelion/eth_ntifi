{
  "nbformat": 4,
  "nbformat_minor": 0,
  "metadata": {
    "colab": {
      "provenance": [],
      "authorship_tag": "ABX9TyMbSBS2yrr1Q2/wIoJypcH7",
      "include_colab_link": true
    },
    "kernelspec": {
      "name": "python3",
      "display_name": "Python 3"
    },
    "language_info": {
      "name": "python"
    }
  },
  "cells": [
    {
      "cell_type": "markdown",
      "metadata": {
        "id": "view-in-github",
        "colab_type": "text"
      },
      "source": [
        "<a href=\"https://colab.research.google.com/github/thelionthelion/eth_ntifi/blob/main/Exercise1.ipynb\" target=\"_parent\"><img src=\"https://colab.research.google.com/assets/colab-badge.svg\" alt=\"Open In Colab\"/></a>"
      ]
    },
    {
      "cell_type": "markdown",
      "source": [],
      "metadata": {
        "id": "3qYkLTPQlTvL"
      }
    },
    {
      "cell_type": "code",
      "execution_count": 2,
      "metadata": {
        "id": "q0nToQAKj-lU"
      },
      "outputs": [],
      "source": [
        "#%tensorflow_version 1.x\n",
        "import numpy as np\n",
        "import tensorflow as tf\n",
        "\n",
        "from keras.models import Sequential\n",
        "from keras.layers import Input, Dense, Conv2D, Concatenate, Dropout, Subtract, \\\n",
        "                        Flatten, MaxPooling2D, Multiply, Lambda, Add, Dot\n",
        "from keras.backend import constant\n",
        "from keras import optimizers\n",
        "\n",
        "#from keras.engine.topology import Layer\n",
        "from keras.models import Model\n",
        "from keras.layers import Input\n",
        "from keras import initializers\n",
        "from keras.constraints import max_norm\n",
        "import keras.backend as K\n",
        "\n",
        "import matplotlib.pyplot as plt\n",
        "\n",
        "import copy\n",
        "\n"
      ]
    },
    {
      "cell_type": "markdown",
      "source": [],
      "metadata": {
        "id": "fnBQDdrPlSmu"
      }
    }
  ]
}