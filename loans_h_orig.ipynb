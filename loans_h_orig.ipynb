{
  "nbformat": 4,
  "nbformat_minor": 0,
  "metadata": {
    "colab": {
      "name": "loans-raw.ipynb",
      "provenance": [],
      "collapsed_sections": [],
      "toc_visible": true
    },
    "kernelspec": {
      "name": "python3",
      "display_name": "Python 3"
    }
  },
  "cells": [
    {
      "cell_type": "markdown",
      "metadata": {
        "id": "a7Bf9ZaIwstM"
      },
      "source": [
        "# A toy default risk model"
      ]
    },
    {
      "cell_type": "markdown",
      "metadata": {
        "id": "7vUS0v6riag7"
      },
      "source": [
        "## Dataset"
      ]
    },
    {
      "cell_type": "code",
      "metadata": {
        "id": "myAkFsvViXUx",
        "colab": {
          "base_uri": "https://localhost:8080/"
        },
        "outputId": "e5328c07-53e0-49f7-e467-da7282f684eb"
      },
      "source": [
        "#your name:\n",
        "#your student number:\n",
        "\n",
        "\n",
        "import numpy as np\n",
        "\n",
        "num_samples = 100000\n",
        "\n",
        "# draw random numbers for every feature\n",
        "x_1 = np.random.uniform(low=18., high=80., size=(num_samples, 1))               #age\n",
        "x_2 = np.random.uniform(low=1., high=15., size=(num_samples, 1))                #income (thousands)\n",
        "x_3 = np.float32(np.random.uniform(low=0., high=1., size=(num_samples, 1)) < .1)#self-employed or employed \n",
        "\n",
        "X = np.concatenate([x_1, x_2, x_3], axis=1)\n",
        "\n",
        "sigmoid = lambda x: 1. / (1. + np.exp(-x))\n",
        "\n",
        "\n",
        "# a linear model\n",
        "b_0 = -13.3\n",
        "b_1 = .33\n",
        "b_2 = -3.5\n",
        "b_3 = 3.\n",
        "\n",
        "p_1 = sigmoid(b_0 + b_1 * x_1 + b_2 * x_2 + b_3 * x_3)\n",
        "y_1 = np.float32(np.squeeze(np.random.uniform(size=(num_samples, 1)) < p_1))\n",
        "\n",
        "\n",
        "# a non-linear model \n",
        "b_0 = -5.\n",
        "b_1 = 10.\n",
        "b_2 = -1.1\n",
        "b_3 = 1.\n",
        "# Briefly comment on the case b_1 = b_2 = b_3 = 0 here:\n",
        "# todo\n",
        "\n",
        "p_2 = sigmoid(b_0 + b_1 * ((x_1 < 25.) + (x_1 > 75.)) + b_2 * x_2 + b_3 * x_3)\n",
        "y_2 = np.float32(np.squeeze(np.random.uniform(size=(num_samples, 1)) < p_2))\n",
        "\n",
        "\n",
        "# divide dataset into train- and testset\n",
        "X_train_1 = X_train_2 = X[:80000, :]\n",
        "X_test_1 = X_test_2 = X[80000:, :]\n",
        "y_train_1 = y_1[:80000]\n",
        "y_test_1 = y_1[80000:]\n",
        "y_train_2 = y_2[:80000]\n",
        "y_test_2 = y_2[80000:]\n",
        "p_2_test = p_2[80000:, :]\n",
        "\n",
        "\n",
        "# check if we have around 5% defaults on the whole dataset in for each model\n",
        "print(\"Linear model: default rate {:.2f}%\".format(np.mean(p_1) * 100.))\n",
        "print(\"Non-linear model: default rate {:.2f}%\".format(np.mean(p_2) * 100.))\n"
      ],
      "execution_count": 28,
      "outputs": [
        {
          "output_type": "stream",
          "name": "stdout",
          "text": [
            "Linear model: default rate 5.08%\n",
            "Non-linear model: default rate 5.11%\n"
          ]
        }
      ]
    },
    {
      "cell_type": "markdown",
      "metadata": {
        "id": "ZZpEp3e-pklL"
      },
      "source": [
        "## Logistic regression"
      ]
    },
    {
      "cell_type": "code",
      "metadata": {
        "colab": {
          "base_uri": "https://localhost:8080/"
        },
        "id": "XmeXoFqdppk1",
        "outputId": "7f46a3ea-c879-4acd-f576-97b3515c4391"
      },
      "source": [
        "from sklearn.linear_model import LogisticRegression\n",
        "\n",
        "#logitic regression for the linear dataset\n",
        "model_LR_1 = LogisticRegression().fit(X_train_1, y_train_1)\n",
        "\n",
        "#a look at the coefficients\n",
        "print(model_LR_1.coef_)\n",
        "print(model_LR_1.intercept_)\n",
        "\n",
        "#logitic regression for the non-linear dataset\n",
        "model_LR_2 = LogisticRegression().fit(X_train_2, y_train_2)\n",
        "\n",
        "print(model_LR_2.coef_)\n",
        "print(model_LR_2.intercept_)"
      ],
      "execution_count": 29,
      "outputs": [
        {
          "output_type": "stream",
          "name": "stdout",
          "text": [
            "[[ 0.32021005 -3.3985065   2.98838565]]\n",
            "[-12.90031078]\n",
            "[[-0.01360843 -0.49576104  0.33427451]]\n",
            "[0.21717939]\n"
          ]
        }
      ]
    },
    {
      "cell_type": "markdown",
      "metadata": {
        "id": "01Ee_UjjuXBB"
      },
      "source": [
        "### Roc curves for the logistic regression"
      ]
    },
    {
      "cell_type": "code",
      "metadata": {
        "colab": {
          "base_uri": "https://localhost:8080/",
          "height": 348
        },
        "id": "Ck_OvUqoqFFz",
        "outputId": "cfba2e15-1aa1-4556-f3f8-5dbd4e1d95a4"
      },
      "source": [
        "from sklearn import metrics\n",
        "import matplotlib.pyplot as plt\n",
        "from sklearn.metrics import roc_auc_score, log_loss\n",
        "\n",
        "#calculate the scores on the linear testset\n",
        "scores_LR_1_train = model_LR_1.predict_proba(X_train_1)\n",
        "scores_LR_1 = model_LR_1.predict_proba(X_test_1)\n",
        "#calculate fpr and tpr\n",
        "fpr_LR_1, tpr_LR_1, thresholds_LR_1 = metrics.roc_curve(y_test_1, scores_LR_1[:, 1], pos_label=1)\n",
        "#calculate auc\n",
        "auc_LR_1 = roc_auc_score(y_test_1, scores_LR_1[:, 1])\n",
        "#calculate total deviance for training and test data. \n",
        "#Note that scores_LR_1_train[:, 1] is the predicted default probability\n",
        "print('total deviance for training data = ' + str(log_loss(y_train_1, scores_LR_1_train[:, 1])))\n",
        "print('total deviance for test data = ' + str(log_loss(y_test_1, scores_LR_1[:, 1])))\n",
        "\n",
        "#calculate the scores on the non-linear testset\n",
        "scores_LR_2 = model_LR_2.predict_proba(X_test_2)\n",
        "fpr_LR_2, tpr_LR_2, thresholds_LR_2 = metrics.roc_curve(y_test_2, scores_LR_2[:, 1], pos_label=1)\n",
        "auc_LR_2 = roc_auc_score(y_test_2, scores_LR_2[:, 1])\n",
        "#calculate total deviance for training and test data:\n",
        "#todo\n",
        "\n",
        "#plot the roc curve\n",
        "plt.plot([0, 1], [0, 1], 'k--')\n",
        "plt.plot(fpr_LR_1, tpr_LR_1, label='Linear model AUC={:.2f}'.format(auc_LR_1))\n",
        "plt.plot(fpr_LR_2, tpr_LR_2, label='Non-linear model AUC={:.2f}'.format(auc_LR_2))\n",
        "plt.xlabel('False positive rate')\n",
        "plt.ylabel('True positive rate')\n",
        "plt.title('ROC curve (logistic regression)')\n",
        "plt.legend(loc='best')\n"
      ],
      "execution_count": 30,
      "outputs": [
        {
          "output_type": "stream",
          "name": "stdout",
          "text": [
            "total deviance for training data = 0.03287528057288603\n",
            "total deviance for test data = 0.033245366090479615\n"
          ]
        },
        {
          "output_type": "execute_result",
          "data": {
            "text/plain": [
              "<matplotlib.legend.Legend at 0x7fef16c41450>"
            ]
          },
          "metadata": {},
          "execution_count": 30
        },
        {
          "output_type": "display_data",
          "data": {
            "image/png": "[encoded data removed]",
            "text/plain": [
              "<Figure size 432x288 with 1 Axes>"
            ]
          },
          "metadata": {
            "needs_background": "light"
          }
        }
      ]
    },
    {
      "cell_type": "markdown",
      "metadata": {
        "id": "HJHYW_Wn1jcY"
      },
      "source": [
        "## Neural networks"
      ]
    },
    {
      "cell_type": "code",
      "metadata": {
        "id": "nvWAg9A91mu4",
        "colab": {
          "base_uri": "https://localhost:8080/"
        },
        "outputId": "f3d0a1a7-2edc-481e-ee9c-6c1085052594"
      },
      "source": [
        "import tensorflow as tf\n",
        "from tensorflow import keras \n",
        "\n",
        "#build the nn model with 2 hidden layers\n",
        "model_NN = keras.Sequential(\n",
        "    [\n",
        "     keras.layers.BatchNormalization(),\n",
        "     keras.layers.Dense(32, activation='relu', name=\"hidden_layer_1\"),\n",
        "     keras.layers.Dense(32, activation='relu', name=\"hidden_layer_2\"),\n",
        "     keras.layers.Dense(1, activation='sigmoid', name=\"output_layer\")\n",
        "    ]\n",
        ")\n",
        "\n",
        "#the loss function\n",
        "def total_deviance(y_true, y_pred):\n",
        "    return tf.math.reduce_mean(-y_true * tf.math.log(y_pred) - (1. - y_true) * tf.math.log(1. - y_pred))\n",
        "\n",
        "#pick an optimizer\n",
        "model_NN.compile(\n",
        "    optimizer=keras.optimizers.Adam(learning_rate=0.001),\n",
        "    loss=total_deviance\n",
        ")\n",
        "\n",
        "#shuffle the data during training\n",
        "train_dataset = tf.data.Dataset.from_tensor_slices((X_train_2, np.float32(y_train_2)))\n",
        "train_dataset = train_dataset.shuffle(buffer_size=1024).batch(256)\n",
        "\n",
        "#fit the model\n",
        "model_NN.fit(\n",
        "    train_dataset,\n",
        "    batch_size=256,\n",
        "    epochs=10\n",
        ")\n"
      ],
      "execution_count": 31,
      "outputs": [
        {
          "output_type": "stream",
          "name": "stdout",
          "text": [
            "Epoch 1/10\n",
            "313/313 [==============================] - 2s 3ms/step - loss: 0.2164\n",
            "Epoch 2/10\n",
            "313/313 [==============================] - 1s 3ms/step - loss: 0.0994\n",
            "Epoch 3/10\n",
            "313/313 [==============================] - 1s 3ms/step - loss: 0.0763\n",
            "Epoch 4/10\n",
            "313/313 [==============================] - 1s 3ms/step - loss: 0.0709\n",
            "Epoch 5/10\n",
            "313/313 [==============================] - 1s 3ms/step - loss: 0.0695\n",
            "Epoch 6/10\n",
            "313/313 [==============================] - 1s 3ms/step - loss: 0.0685\n",
            "Epoch 7/10\n",
            "313/313 [==============================] - 1s 3ms/step - loss: 0.0677\n",
            "Epoch 8/10\n",
            "313/313 [==============================] - 1s 3ms/step - loss: 0.0674\n",
            "Epoch 9/10\n",
            "313/313 [==============================] - 1s 3ms/step - loss: 0.0661\n",
            "Epoch 10/10\n",
            "313/313 [==============================] - 1s 3ms/step - loss: 0.0658\n"
          ]
        },
        {
          "output_type": "execute_result",
          "data": {
            "text/plain": [
              "<keras.callbacks.History at 0x7fef16d245d0>"
            ]
          },
          "metadata": {},
          "execution_count": 31
        }
      ]
    },
    {
      "cell_type": "markdown",
      "metadata": {
        "id": "sPCyWa2Jh8JH"
      },
      "source": [
        "### Roc curves for the neural network"
      ]
    },
    {
      "cell_type": "code",
      "metadata": {
        "colab": {
          "base_uri": "https://localhost:8080/",
          "height": 313
        },
        "id": "EgappOzX4bf8",
        "outputId": "c5cf67cc-5d31-470c-a648-bc3807016ba1"
      },
      "source": [
        "\n",
        "#calculate the scores on the testdata\n",
        "scores_NN_train = model_NN(X_train_2)\n",
        "scores_NN = model_NN(X_test_2)\n",
        "fpr_NN, tpr_NN, thresholds_NN = metrics.roc_curve(y_test_2, scores_NN[:, 0], pos_label=1)\n",
        "auc_NN = roc_auc_score(y_test_2, scores_NN[:, 0])\n",
        "\n",
        "#calculate total deviance for training and test data.\n",
        "#Note that scores_NN[:, 0] is the predicted default probability.\n",
        "#todo\n",
        "\n",
        "plt.plot(fpr_NN, tpr_NN, label='NN non-linear model AUC={:.2f}'.format(auc_NN))\n",
        "plt.plot(fpr_LR_2, tpr_LR_2, label='LR non-linear model AUC={:.2f}'.format(auc_LR_2))\n",
        "plt.plot([0, 1], [0, 1], 'k--')\n",
        "plt.xlabel('False positive rate')\n",
        "plt.ylabel('True positive rate')\n",
        "plt.title('ROC curve (NN vs. LR)')\n",
        "plt.legend(loc='best')\n"
      ],
      "execution_count": 32,
      "outputs": [
        {
          "output_type": "execute_result",
          "data": {
            "text/plain": [
              "<matplotlib.legend.Legend at 0x7fef16a82190>"
            ]
          },
          "metadata": {},
          "execution_count": 32
        },
        {
          "output_type": "display_data",
          "data": {
            "image/png": "[encoded data removed]",
            "text/plain": [
              "<Figure size 432x288 with 1 Axes>"
            ]
          },
          "metadata": {
            "needs_background": "light"
          }
        }
      ]
    },
    {
      "cell_type": "markdown",
      "metadata": {
        "id": "7ESezTJnIqp4"
      },
      "source": [
        "## P&L Analysis"
      ]
    },
    {
      "cell_type": "code",
      "metadata": {
        "id": "bb0p5HSAIuBd",
        "colab": {
          "base_uri": "https://localhost:8080/",
          "height": 619
        },
        "outputId": "ae5e2106-b04f-45ae-c3f4-17c720c972b4"
      },
      "source": [
        "from scipy.stats import norm\n",
        "import matplotlib as mpl\n",
        "\n",
        "portfolio_size = 5000\n",
        "loan_amount = 1000. \n",
        "rate = 0.055\n",
        "\n",
        "#simulate the defaults on the loan portfolio\n",
        "defaults = np.float32(np.random.uniform(low=0., high=1., size=(portfolio_size, 50000)) < p_2_test[:portfolio_size, :])\n",
        "\n",
        "\n",
        "#p&l for scenario 1\n",
        "p_and_l_a = np.sum(loan_amount * (rate * (1. - defaults) - defaults), axis=0)\n",
        "\n",
        "#histogramm for scenario 1\n",
        "plt.figure(1)\n",
        "plt.hist(p_and_l_a, bins=100)\n",
        "\n",
        "print('Mean: {:.2f}'.format(np.mean(p_and_l_a)))\n",
        "p_and_l_a = np.sort(p_and_l_a)\n",
        "print('VaR: {:.2f}'.format(-p_and_l_a[499]))\n",
        "\n",
        "#scenario 2\n",
        "\n",
        "rate = 0.01\n",
        "\n",
        "p_and_l_b_LR = np.sum(loan_amount * (rate * (1. - defaults) - defaults) * np.float32(scores_LR_2[:portfolio_size, 1:2] < 0.05), axis=0)\n",
        "p_and_l_b_NN = np.sum(loan_amount * (rate * (1. - defaults) - defaults) * np.float32(scores_NN[:portfolio_size, :] < 0.05), axis=0)\n",
        "\n",
        "\n",
        "plt.figure(2)\n",
        "plt.hist(p_and_l_b_LR, bins=100, label='LR')\n",
        "plt.hist(p_and_l_b_NN, bins=100, label='NN')\n",
        "plt.legend()\n",
        "\n",
        "\n",
        "print('Mean (LR): {:.2f}'.format(np.mean(p_and_l_b_LR)))\n",
        "p_and_l_b_LR = np.sort(p_and_l_b_LR)\n",
        "print('VaR (LR): {:.2f}'.format(-p_and_l_b_LR[499]))\n",
        "\n",
        "print('Mean (NN): {:.2f}'.format(np.mean(p_and_l_b_NN)))\n",
        "p_and_l_b_NN = np.sort(p_and_l_b_NN)\n",
        "print('VaR (NN): {:.2f}'.format(-p_and_l_b_NN[499]))\n",
        "\n"
      ],
      "execution_count": 33,
      "outputs": [
        {
          "output_type": "stream",
          "name": "stdout",
          "text": [
            "Mean: 3958.09\n",
            "VaR: 16180.00\n",
            "Mean (LR): 2688.40\n",
            "VaR (LR): 9050.00\n",
            "Mean (NN): 37481.21\n",
            "VaR (NN): -30880.00\n"
          ]
        },
        {
          "output_type": "display_data",
          "data": {
            "image/png": "[encoded data removed]",
            "text/plain": [
              "<Figure size 432x288 with 1 Axes>"
            ]
          },
          "metadata": {
            "needs_background": "light"
          }
        },
        {
          "output_type": "display_data",
          "data": {
            "image/png": "[encoded data removed]",
            "text/plain": [
              "<Figure size 432x288 with 1 Axes>"
            ]
          },
          "metadata": {
            "needs_background": "light"
          }
        }
      ]
    }
  ]
}